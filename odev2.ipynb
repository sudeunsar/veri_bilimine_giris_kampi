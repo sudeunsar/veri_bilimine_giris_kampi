{
 "cells": [
  {
   "cell_type": "code",
   "execution_count": 17,
   "id": "initial_id",
   "metadata": {
    "ExecuteTime": {
     "end_time": "2025-08-28T13:05:39.348613Z",
     "start_time": "2025-08-28T13:05:34.391267Z"
    },
    "collapsed": true,
    "jupyter": {
     "outputs_hidden": true
    }
   },
   "outputs": [
    {
     "name": "stdout",
     "output_type": "stream",
     "text": [
      "The number is positive.\n",
      "The number is even.\n"
     ]
    }
   ],
   "source": [
    "#Q1\n",
    "number = int(input(\"Enter your number: \"))\n",
    "if number == 0:\n",
    "    print(\"The number is 0 and it is neutral.\")\n",
    "elif  number < 0:\n",
    "    print(\"The number is negative\")\n",
    "else:\n",
    "    print(\"The number is positive.\")\n",
    "\n",
    "if number % 2 == 0:\n",
    "    print(\"The number is even.\")\n",
    "else:\n",
    "    print(\"The number is odd.\")"
   ]
  },
  {
   "cell_type": "code",
   "execution_count": 19,
   "id": "d23b318b7cc093e1",
   "metadata": {
    "ExecuteTime": {
     "end_time": "2025-08-28T13:06:31.361437Z",
     "start_time": "2025-08-28T13:06:28.185560Z"
    }
   },
   "outputs": [
    {
     "name": "stdout",
     "output_type": "stream",
     "text": [
      "{'d': 1, 'a': 2, 't': 1}\n"
     ]
    }
   ],
   "source": [
    "#Q2\n",
    "word = input(\"Enter your word: \")\n",
    "letters_of_word = {}\n",
    "for letter in word:\n",
    "    if letter in letters_of_word:\n",
    "        letters_of_word[letter] += 1\n",
    "    else:\n",
    "        letters_of_word[letter] = 1\n",
    "print(letters_of_word)"
   ]
  },
  {
   "cell_type": "code",
   "execution_count": 6,
   "id": "659cbba0efa70c36",
   "metadata": {
    "ExecuteTime": {
     "end_time": "2025-08-28T12:11:07.037209Z",
     "start_time": "2025-08-28T12:11:00.607154Z"
    }
   },
   "outputs": [
    {
     "name": "stdout",
     "output_type": "stream",
     "text": [
      "Password is valid.\n"
     ]
    }
   ],
   "source": [
    "#Q3\n",
    "password = input(\"Enter your password: \")\n",
    "length = len(password) >= 8\n",
    "upper_case = any(c.isupper() for c in password)\n",
    "digit = any(c.isdigit() for c in password)\n",
    "\n",
    "if  length and upper_case and digit:\n",
    "    print(\"Password is valid.\")\n",
    "else:\n",
    "    print(\"Password is invalid.\")\n",
    "    if not length:\n",
    "        print(\"Password must be at least 8 characters \")\n",
    "    if not upper_case:\n",
    "        print(\"Password must contain at least one uppercase letter\")\n",
    "    if not digit:\n",
    "        print(\"Password must contain at least one digit\")"
   ]
  },
  {
   "cell_type": "code",
   "execution_count": 4,
   "id": "325ee73545f802ba",
   "metadata": {
    "ExecuteTime": {
     "end_time": "2025-08-28T12:10:52.719995Z",
     "start_time": "2025-08-28T12:10:52.703404Z"
    }
   },
   "outputs": [
    {
     "name": "stdout",
     "output_type": "stream",
     "text": [
      "average:  15.0\n",
      "numbers greater than average:  [25, 30, 18]\n"
     ]
    }
   ],
   "source": [
    "#Q4\n",
    "numbers = [12,4,9,25,30,7,18]\n",
    "average = sum(numbers) / len(numbers)\n",
    "print(\"average: \", average)\n",
    "greater_than_average = [number for number in numbers if number > average]\n",
    "print(\"numbers greater than average: \", greater_than_average)"
   ]
  },
  {
   "cell_type": "code",
   "execution_count": 3,
   "id": "5534363f50e2a0ed",
   "metadata": {
    "ExecuteTime": {
     "end_time": "2025-08-28T12:10:45.166315Z",
     "start_time": "2025-08-28T12:10:45.154375Z"
    }
   },
   "outputs": [
    {
     "name": "stdout",
     "output_type": "stream",
     "text": [
      "*\n",
      "**\n",
      "***\n",
      "****\n",
      "*****\n"
     ]
    }
   ],
   "source": [
    "#Q5\n",
    "n = 5\n",
    "for i in range(1 , n+1):\n",
    "    for j in range(i):\n",
    "        print(\"*\", end=\"\")\n",
    "    print()"
   ]
  },
  {
   "cell_type": "code",
   "execution_count": 7,
   "id": "e6ef9e21df55743c",
   "metadata": {
    "ExecuteTime": {
     "end_time": "2025-08-28T12:19:00.563105Z",
     "start_time": "2025-08-28T12:18:43.606834Z"
    }
   },
   "outputs": [
    {
     "name": "stdout",
     "output_type": "stream",
     "text": [
      "Sum of entered numbers: 9\n",
      "Average of entered numbers: 3.0\n"
     ]
    }
   ],
   "source": [
    "#Q6\n",
    "total = 0\n",
    "count = 0\n",
    "while True:\n",
    "    number = int(input(\"Enter a number: \"))\n",
    "    if number == 0:\n",
    "        break\n",
    "    total += number\n",
    "    count += 1\n",
    "\n",
    "if count > 0:\n",
    "    print(\"Sum of entered numbers:\", total)\n",
    "    print(\"Average of entered numbers:\", total / count)\n",
    "else:\n",
    "    print(\"No numbers were entered.\")"
   ]
  },
  {
   "cell_type": "code",
   "execution_count": 8,
   "id": "11a64b3d49f055c8",
   "metadata": {
    "ExecuteTime": {
     "end_time": "2025-08-28T12:25:15.198396Z",
     "start_time": "2025-08-28T12:25:06.126471Z"
    }
   },
   "outputs": [
    {
     "name": "stdout",
     "output_type": "stream",
     "text": [
      "palindrome\n"
     ]
    }
   ],
   "source": [
    "#Q7\n",
    "word = input(\"enter a word:\")\n",
    "reversed_word = word[::-1]\n",
    "if word == reversed_word:\n",
    "    print(\"palindrome\")\n",
    "else:\n",
    "    print(\"not a palindrome\")"
   ]
  },
  {
   "cell_type": "code",
   "execution_count": 12,
   "id": "ee2e98051ba4deeb",
   "metadata": {
    "ExecuteTime": {
     "end_time": "2025-08-28T12:32:40.309507Z",
     "start_time": "2025-08-28T12:32:40.294877Z"
    }
   },
   "outputs": [
    {
     "name": "stdout",
     "output_type": "stream",
     "text": [
      "[225, 900, 2025, 3600, 5625, 8100]\n"
     ]
    }
   ],
   "source": [
    "#Q8\n",
    "list = range(1 , 101)\n",
    "new_list = []\n",
    "for i in list:\n",
    "    if i % 5 == 0 and i % 3 == 0:\n",
    "        new_list.append(i*i)\n",
    "    i+=1\n",
    "print(new_list)"
   ]
  },
  {
   "cell_type": "code",
   "execution_count": 13,
   "id": "6af79e39541b52f9",
   "metadata": {
    "ExecuteTime": {
     "end_time": "2025-08-28T12:43:31.652059Z",
     "start_time": "2025-08-28T12:43:11.638551Z"
    }
   },
   "outputs": [
    {
     "name": "stdout",
     "output_type": "stream",
     "text": [
      "Phyton Veri Bilimi\n"
     ]
    }
   ],
   "source": [
    "#Q9\n",
    "sentence = input(\"Enter a sentence:\")\n",
    "words = sentence.split()\n",
    "capitalized_words = [word.capitalize() for word in words]\n",
    "new_sentence = \" \".join(capitalized_words)\n",
    "print(new_sentence)"
   ]
  },
  {
   "cell_type": "code",
   "execution_count": 16,
   "id": "1a7f05d9c8ecc7a8",
   "metadata": {
    "ExecuteTime": {
     "end_time": "2025-08-28T13:05:06.393570Z",
     "start_time": "2025-08-28T13:03:55.127807Z"
    }
   },
   "outputs": [
    {
     "name": "stdout",
     "output_type": "stream",
     "text": [
      "['very good', 'it was nice', \"it was good but could've been better\", 'it was average', 'bad']\n",
      "Number of the comments: 5\n",
      "Number of the comments containing \"good\":  2\n",
      "Longest comment: it was good but could've been better\n",
      "Shortest comment: bad\n",
      "Average length: 14.6\n"
     ]
    }
   ],
   "source": [
    "#mini proje - film yorumu analizi\n",
    "comments = []\n",
    "for i in range(5):\n",
    "    comment = input(\"Enter a comment:\")\n",
    "    comments.append(comment)\n",
    "\n",
    "lengths = [len(c) for c in comments]\n",
    "good_count = sum(1 for c in comments if \"good\" in c.lower())\n",
    "longest = max(comments, key=len)\n",
    "shortest = min(comments, key=len)\n",
    "average_length = sum(lengths) / len(lengths)\n",
    "\n",
    "print(comments)\n",
    "print(\"Number of the comments: 5\")\n",
    "print('Number of the comments containing \"good\": ', good_count)\n",
    "print(\"Longest comment:\" , longest)\n",
    "print(\"Shortest comment:\" ,  shortest)\n",
    "print(\"Average length:\" , average_length)"
   ]
  }
 ],
 "metadata": {
  "kernelspec": {
   "display_name": "Python [conda env:base] *",
   "language": "python",
   "name": "conda-base-py"
  },
  "language_info": {
   "codemirror_mode": {
    "name": "ipython",
    "version": 3
   },
   "file_extension": ".py",
   "mimetype": "text/x-python",
   "name": "python",
   "nbconvert_exporter": "python",
   "pygments_lexer": "ipython3",
   "version": "3.13.5"
  }
 },
 "nbformat": 4,
 "nbformat_minor": 5
}
