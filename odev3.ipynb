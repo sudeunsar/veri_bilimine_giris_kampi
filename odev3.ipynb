{
 "cells": [
  {
   "cell_type": "code",
   "execution_count": 4,
   "id": "29708ed75ca210f3",
   "metadata": {
    "ExecuteTime": {
     "end_time": "2025-09-04T11:06:25.583208Z",
     "start_time": "2025-09-04T11:06:25.571522Z"
    }
   },
   "outputs": [
    {
     "name": "stdout",
     "output_type": "stream",
     "text": [
      "Benzersiz liste:  [100, 92, 85, 76]\n",
      "En yüksek:  100\n",
      "En düşük:  76\n",
      "Sıralı liste:  [76, 85, 92, 100]\n"
     ]
    }
   ],
   "source": [
    "#Q1\n",
    "notlar = [85, 92, 76, 92, 100, 76, 85, 92]\n",
    "benzersiz_liste = list(set(notlar))\n",
    "print(\"Benzersiz liste: \" , benzersiz_liste)\n",
    "en_yuksek = max(benzersiz)\n",
    "en_dusuk = min(benzersiz)\n",
    "print(\"En yüksek: \" , en_yuksek)\n",
    "print(\"En düşük: \" , en_dusuk)\n",
    "sirali = sorted(benzersiz_liste)\n",
    "print(\"Sıralı liste: \", sirali)"
   ]
  },
  {
   "cell_type": "code",
   "execution_count": 7,
   "id": "e6a271748d4873ac",
   "metadata": {
    "ExecuteTime": {
     "end_time": "2025-09-04T11:22:56.647924Z",
     "start_time": "2025-09-04T11:22:51.006937Z"
    }
   },
   "outputs": [
    {
     "name": "stdout",
     "output_type": "stream",
     "text": [
      "153 bir armstrong sayisidir.\n"
     ]
    }
   ],
   "source": [
    "#Q2\n",
    "def armstrong_sayisi(n):\n",
    "    x = str(n)\n",
    "    basamak_sayisi = len(x)\n",
    "    basamak_sayisi = len(x)\n",
    "    toplam = 0\n",
    "    for y in x:\n",
    "        toplam += int(y) ** basamak_sayisi\n",
    "    return n == toplam\n",
    "sayi = int(input(\"Bir sayi giriniz: \"))\n",
    "if armstrong_sayisi(sayi):\n",
    "    print(sayi , \"bir armstrong sayisidir.\")\n",
    "else:\n",
    "    print(sayi , \"bir armstrong sayisi değildir.\")"
   ]
  },
  {
   "cell_type": "code",
   "execution_count": 27,
   "id": "8c5760e3e57acc95",
   "metadata": {
    "ExecuteTime": {
     "end_time": "2025-09-04T13:26:47.982330Z",
     "start_time": "2025-09-04T13:26:47.960435Z"
    }
   },
   "outputs": [
    {
     "name": "stdout",
     "output_type": "stream",
     "text": [
      "{'Python', 'SQL'}\n",
      "{'Java', 'R'}\n",
      "['C++', 'Java', 'JavaScript', 'Python', 'R', 'SQL']\n"
     ]
    }
   ],
   "source": [
    "#Q3\n",
    "A = {\"Python\", \"R\", \"SQL\", \"Java\"}\n",
    "B = {\"C++\", \"Python\", \"JavaScript\", \"SQL\"}\n",
    "ortak = A.intersection(B)\n",
    "print(ortak)\n",
    "sadece_A = A.difference(B)\n",
    "print(sadece_A)\n",
    "bilesim = A.union(B)\n",
    "print(sorted(bilesim))"
   ]
  },
  {
   "cell_type": "code",
   "execution_count": 21,
   "id": "cd30735fbd8e0b8",
   "metadata": {
    "ExecuteTime": {
     "end_time": "2025-09-04T11:58:11.612911Z",
     "start_time": "2025-09-04T11:58:11.585314Z"
    }
   },
   "outputs": [
    {
     "name": "stdout",
     "output_type": "stream",
     "text": [
      "45\n",
      "84\n",
      "91\n",
      "59\n",
      "86\n",
      "14\n",
      "67\n",
      "12\n",
      "67\n",
      "93\n",
      "average:  61.8\n",
      "standard deviation:  29.839571042493223\n"
     ]
    }
   ],
   "source": [
    "#Q4\n",
    "import random\n",
    "import statistics\n",
    "numbers = []\n",
    "for _ in range(10):\n",
    "   n =random.randint(1, 100)\n",
    "   print(n) #10 rastgele sayi\n",
    "   numbers.append(n)\n",
    "average = statistics.mean(numbers)\n",
    "print(\"average: \" , average)\n",
    "standard_deviation = statistics.stdev(numbers)\n",
    "print(\"standard deviation: \" , standard_deviation)"
   ]
  },
  {
   "cell_type": "code",
   "execution_count": 22,
   "id": "24df10ef74d2c275",
   "metadata": {
    "ExecuteTime": {
     "end_time": "2025-09-04T12:10:47.767517Z",
     "start_time": "2025-09-04T12:10:00.599690Z"
    }
   },
   "outputs": [
    {
     "data": {
      "text/plain": [
       "(6, 'eglenceli', 'cok')"
      ]
     },
     "execution_count": 22,
     "metadata": {},
     "output_type": "execute_result"
    }
   ],
   "source": [
    "#Q5\n",
    "def kelime_sayaci(metin):\n",
    "    kelimeler = metin.split()\n",
    "    toplam_kelime = len(kelimeler)\n",
    "    en_uzun = max(kelimeler, key=len)\n",
    "    en_sık = max(kelimeler, key=kelimeler.count)\n",
    "    return toplam_kelime, en_uzun, en_sık\n",
    "metin =str(input(\"Metin giriniz: \"))\n",
    "kelime_sayaci(metin)"
   ]
  },
  {
   "cell_type": "code",
   "execution_count": 24,
   "id": "a77072dccca60573",
   "metadata": {
    "ExecuteTime": {
     "end_time": "2025-09-04T13:19:58.449841Z",
     "start_time": "2025-09-04T13:19:58.433746Z"
    }
   },
   "outputs": [
    {
     "name": "stdout",
     "output_type": "stream",
     "text": [
      "cift sayilar: [12, 18, 24, 16]\n",
      "kareleri: [144, 324, 576, 256]\n",
      "kareleri azalan sirada: [576, 324, 256, 144]\n"
     ]
    }
   ],
   "source": [
    "#Q6\n",
    "sayilar = [5, 12, 7, 18, 24, 3, 16]\n",
    "cift_sayilar = list(filter(lambda x: x % 2 == 0, sayilar))\n",
    "print(\"cift sayilar:\", cift_sayilar)\n",
    "kareler = list(map(lambda x: x**2, cift_sayilar))\n",
    "print(\"kareleri:\", kareler)\n",
    "kareler_sirali = sorted(kareler, reverse=True)\n",
    "print(\"kareleri azalan sirada:\", kareler_sirali)"
   ]
  },
  {
   "cell_type": "code",
   "execution_count": 25,
   "id": "560af914f4c05760",
   "metadata": {
    "ExecuteTime": {
     "end_time": "2025-09-04T13:22:19.432145Z",
     "start_time": "2025-09-04T13:22:19.411645Z"
    }
   },
   "outputs": [
    {
     "name": "stdout",
     "output_type": "stream",
     "text": [
      "['veri', 'bilim', 'analiz', 'python', 'yapayzeka']\n"
     ]
    }
   ],
   "source": [
    "#Q7\n",
    "kelimeler = [\"veri\", \"bilim\", \"analiz\", \"yapayzeka\", \"python\"]\n",
    "siralanmis = sorted(kelimeler, key=lambda x: len(x))\n",
    "print(siralanmis)"
   ]
  },
  {
   "cell_type": "code",
   "execution_count": 26,
   "id": "39ba20af9f0ea9e3",
   "metadata": {
    "ExecuteTime": {
     "end_time": "2025-09-04T13:24:48.358012Z",
     "start_time": "2025-09-04T13:24:48.330545Z"
    }
   },
   "outputs": [
    {
     "name": "stdout",
     "output_type": "stream",
     "text": [
      "6\n"
     ]
    }
   ],
   "source": [
    "#Q8\n",
    "def sum_digits(text):\n",
    "    total = 0\n",
    "    for c in text:\n",
    "        if c.isdigit():\n",
    "            total += int(c)\n",
    "    return total\n",
    "text = \"abc12def3\"\n",
    "print(sum_digits(text))"
   ]
  }
 ],
 "metadata": {
  "kernelspec": {
   "display_name": "Python [conda env:base] *",
   "language": "python",
   "name": "conda-base-py"
  },
  "language_info": {
   "codemirror_mode": {
    "name": "ipython",
    "version": 3
   },
   "file_extension": ".py",
   "mimetype": "text/x-python",
   "name": "python",
   "nbconvert_exporter": "python",
   "pygments_lexer": "ipython3",
   "version": "3.13.5"
  }
 },
 "nbformat": 4,
 "nbformat_minor": 5
}
