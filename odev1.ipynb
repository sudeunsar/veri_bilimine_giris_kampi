{
 "cells": [
  {
   "cell_type": "code",
   "id": "initial_id",
   "metadata": {
    "ExecuteTime": {
     "end_time": "2025-08-28T13:07:11.555654Z",
     "start_time": "2025-08-28T13:07:01.624384Z"
    }
   },
   "source": [
    "#Q1\n",
    "name = input(\"Enter your name: \")\n",
    "print(name)\n",
    "age = int(input(\"Enter your age: \"))\n",
    "print(age)\n",
    "height = float(input(\"Enter your height as meter: \"))\n",
    "print(height)"
   ],
   "outputs": [
    {
     "name": "stdout",
     "output_type": "stream",
     "text": [
      "sude\n",
      "19\n",
      "1.72\n"
     ]
    }
   ],
   "execution_count": 3
  },
  {
   "cell_type": "code",
   "id": "1be6c0bc7206c8e6",
   "metadata": {
    "ExecuteTime": {
     "end_time": "2025-08-28T13:07:26.499464Z",
     "start_time": "2025-08-28T13:07:14.739272Z"
    }
   },
   "source": [
    "#Q2\n",
    "math = int(input(\"Enter your math grade: \"))\n",
    "physics = int(input(\"Enter your physics grade: \"))\n",
    "chemistry = int(input(\"Enter your chemistry grade: \"))\n",
    "average = (math + physics + chemistry)/3\n",
    "print(average)"
   ],
   "outputs": [
    {
     "name": "stdout",
     "output_type": "stream",
     "text": [
      "76.66666666666667\n"
     ]
    }
   ],
   "execution_count": 4
  },
  {
   "cell_type": "code",
   "id": "92686320fe1f6d02",
   "metadata": {
    "ExecuteTime": {
     "end_time": "2025-08-28T13:07:32.109666Z",
     "start_time": "2025-08-28T13:07:32.091797Z"
    }
   },
   "source": [
    "#Q3\n",
    "x = \"sude\"\n",
    "print(x)\n",
    "print(x[0])\n",
    "print(x[-1]) #or type print(x[3])\n",
    "print(x[::-1])\n",
    "print(len(x))"
   ],
   "outputs": [
    {
     "name": "stdout",
     "output_type": "stream",
     "text": [
      "sude\n",
      "s\n",
      "e\n",
      "edus\n",
      "4\n"
     ]
    }
   ],
   "execution_count": 5
  },
  {
   "cell_type": "code",
   "id": "874db864a0c18d45",
   "metadata": {
    "ExecuteTime": {
     "end_time": "2025-08-28T13:07:45.325158Z",
     "start_time": "2025-08-28T13:07:40.156236Z"
    }
   },
   "source": [
    "#Q4\n",
    "num1 = int(input(\"Enter first number: \"))\n",
    "num2 = int(input(\"Enter second number: \"))\n",
    "sum = num1 + num2\n",
    "sub = num1 - num2\n",
    "mul = num1 * num2\n",
    "div = num1 / num2\n",
    "mod = num1 % num2\n",
    "print(\"sum is\", sum)\n",
    "print(\"sub is\", sub)\n",
    "print(\"mul is\", mul)\n",
    "print(\"div is\", div)\n",
    "print(\"mod is\", mod)"
   ],
   "outputs": [
    {
     "name": "stdout",
     "output_type": "stream",
     "text": [
      "sum is 27\n",
      "sub is -3\n",
      "mul is 180\n",
      "div is 0.8\n",
      "mod is 12\n"
     ]
    }
   ],
   "execution_count": 6
  },
  {
   "metadata": {
    "ExecuteTime": {
     "end_time": "2025-08-28T13:07:53.351372Z",
     "start_time": "2025-08-28T13:07:53.338345Z"
    }
   },
   "cell_type": "code",
   "source": [
    "#Q5 Q2'nin verileri ile\n",
    "if average >= 50:\n",
    "    print(\"The student passed.\")\n",
    "else:\n",
    "    print(\"The student failed.\")\n",
    "\n",
    "passing_Status = (average >= 50) and \"passed\" or \"failed\"\n",
    "print(passing_Status)"
   ],
   "id": "5db0a367a7ade374",
   "outputs": [
    {
     "name": "stdout",
     "output_type": "stream",
     "text": [
      "The student passed.\n",
      "passed\n"
     ]
    }
   ],
   "execution_count": 7
  },
  {
   "metadata": {
    "ExecuteTime": {
     "end_time": "2025-08-28T13:08:16.847843Z",
     "start_time": "2025-08-28T13:08:13.385487Z"
    }
   },
   "cell_type": "code",
   "source": [
    "#Q6\n",
    "age = int(input(\"Enter your age: \"))\n",
    "if age >= 18:\n",
    "    print(\"you can get a driving license.\")\n",
    "else:\n",
    "    print(\"you can not get a driving license.\")"
   ],
   "id": "f3c707dc4e5ea020",
   "outputs": [
    {
     "name": "stdout",
     "output_type": "stream",
     "text": [
      "you can get a driving license.\n"
     ]
    }
   ],
   "execution_count": 8
  },
  {
   "metadata": {
    "ExecuteTime": {
     "end_time": "2025-08-28T13:08:30.688012Z",
     "start_time": "2025-08-28T13:08:22.275850Z"
    }
   },
   "cell_type": "code",
   "source": [
    "#Q7\n",
    "price = float(input(\"price: \"))\n",
    "discount = int(input(\"discount as % : \"))\n",
    "discounted_price = price - (price * discount / 100)\n",
    "print(discounted_price)"
   ],
   "id": "521adcf492460b11",
   "outputs": [
    {
     "name": "stdout",
     "output_type": "stream",
     "text": [
      "80.0\n"
     ]
    }
   ],
   "execution_count": 9
  },
  {
   "metadata": {
    "ExecuteTime": {
     "end_time": "2025-08-28T13:08:47.912855Z",
     "start_time": "2025-08-28T13:08:39.728897Z"
    }
   },
   "cell_type": "code",
   "source": [
    "#Q9\n",
    "price1 = int(input(\"price1: \"))\n",
    "price2 = int(input(\"price2: \"))\n",
    "price3 = int(input(\"price3: \"))\n",
    "total_price = price1 + price2 + price3\n",
    "print(\"Total price: \", total_price)\n",
    "if total_price >= 100:\n",
    "    print(\"with %10 discount: \", total_price - total_price * 10/100)\n",
    "else:\n",
    "    print(\"Without discount: \", total_price)"
   ],
   "id": "dbdc4a6aaeb4b0fb",
   "outputs": [
    {
     "name": "stdout",
     "output_type": "stream",
     "text": [
      "Total price:  240\n",
      "with %10 discount:  216.0\n"
     ]
    }
   ],
   "execution_count": 10
  },
  {
   "metadata": {
    "ExecuteTime": {
     "end_time": "2025-08-28T13:09:00.995148Z",
     "start_time": "2025-08-28T13:08:56.579369Z"
    }
   },
   "cell_type": "code",
   "source": [
    "#Q10\n",
    "birth_year = int(input(\"Enter your birth year: \"))\n",
    "age = 2025 - birth_year\n",
    "if 0 < age <= 12:\n",
    "    print(\"You are a child.\")\n",
    "elif 12 < age < 18:\n",
    "    print(\"You are a teenager.\")\n",
    "else:\n",
    "    print(\"You are an adult.\")"
   ],
   "id": "872048ef5d3f36e4",
   "outputs": [
    {
     "name": "stdout",
     "output_type": "stream",
     "text": [
      "You are an adult.\n"
     ]
    }
   ],
   "execution_count": 11
  }
 ],
 "metadata": {
  "kernelspec": {
   "display_name": "Python [conda env:base] *",
   "language": "python",
   "name": "conda-base-py"
  },
  "language_info": {
   "codemirror_mode": {
    "name": "ipython",
    "version": 3
   },
   "file_extension": ".py",
   "mimetype": "text/x-python",
   "name": "python",
   "nbconvert_exporter": "python",
   "pygments_lexer": "ipython3",
   "version": "3.13.5"
  }
 },
 "nbformat": 4,
 "nbformat_minor": 5
}
