{
 "cells": [
  {
   "cell_type": "code",
   "execution_count": 21,
   "id": "initial_id",
   "metadata": {
    "ExecuteTime": {
     "end_time": "2025-09-14T14:06:44.444370Z",
     "start_time": "2025-09-14T14:06:44.418574Z"
    }
   },
   "outputs": [
    {
     "name": "stdout",
     "output_type": "stream",
     "text": [
      "matris: [[ 0 77 99 55  3]\n",
      " [85  6 99 38 25]\n",
      " [60 87 72 40 32]\n",
      " [10  4 20 85 47]\n",
      " [37  2  4 17 19]]\n",
      "ortalama: 40.92\n",
      "standart sapma: 32.863256077266605\n",
      "varyans: 1079.9936000000002\n",
      "en buyuk deger: 99\n",
      "en kucuk deger: 0\n",
      "kosegenlerdeki elemanlarin toplami: 182\n",
      "ortalama: 49.78273437097406\n",
      "medyan: 49.56826426864284\n",
      "standart sapma: 15.010091682635409\n",
      "50'den dusuk ogrenci sayisi: 511\n"
     ]
    }
   ],
   "source": [
    "#1.NUMPY BOLUMU\n",
    "#numpy ile matris islemleri\n",
    "import numpy as np\n",
    "matris = np.random.randint(0, 101, size=(5, 5))\n",
    "print(\"matris:\", matris)\n",
    "print(\"ortalama:\", np.mean(matris))\n",
    "print(\"standart sapma:\", np.std(matris))\n",
    "print(\"varyans:\", np.var(matris))\n",
    "print(\"en buyuk deger:\", np.max(matris))\n",
    "print(\"en kucuk deger:\", np.min(matris))\n",
    "print(\"kosegenlerdeki elemanlarin toplami:\", np.trace(matris))\n",
    "\n",
    "#numpy ile veri simulasyonu\n",
    "puanlar = np.random.normal(loc=50, scale=15, size=1000)\n",
    "puanlar = np.array([min(max(p, 0), 100) for p in puanlar])\n",
    "print(\"ortalama:\", np.mean(puanlar))\n",
    "print(\"medyan:\", np.median(puanlar))\n",
    "print(\"standart sapma:\", np.std(puanlar))\n",
    "print(\"50'den dusuk ogrenci sayisi:\", np.sum(puanlar < 50))"
   ]
  },
  {
   "cell_type": "code",
   "execution_count": 20,
   "id": "592638fbc6e469c8",
   "metadata": {
    "ExecuteTime": {
     "end_time": "2025-09-14T14:06:17.290171Z",
     "start_time": "2025-09-14T14:06:17.255895Z"
    }
   },
   "outputs": [
    {
     "name": "stdout",
     "output_type": "stream",
     "text": [
      "  ogrenci  yas       bolum  sinav1  sinav2  sinav3\n",
      "0     ali   20  bilgisayar      70      85      55\n",
      "1    ayse   21       fizik      65      80      60\n",
      "2  mehmet   19       kimya      80      70      70\n",
      "3  zeynep   22  bilgisayar      60      65      80\n",
      "4   ahmet   20       fizik      75      90      85\n",
      "ortalamalar:\n",
      " sinav1    70.0\n",
      "sinav2    78.0\n",
      "sinav3    70.0\n",
      "dtype: float64\n",
      "en yuksek matematik notu alan ogrenci: mehmet\n",
      "  ogrenci  yas       bolum  sinav1  sinav2  sinav3   ortalama\n",
      "0     ali   20  bilgisayar      70      85      55  70.000000\n",
      "1    ayse   21       fizik      65      80      60  68.333333\n",
      "2  mehmet   19       kimya      80      70      70  73.333333\n",
      "3  zeynep   22  bilgisayar      60      65      80  68.333333\n",
      "4   ahmet   20       fizik      75      90      85  83.333333\n",
      "            sinav1  sinav2  sinav3\n",
      "bolum                             \n",
      "bilgisayar    65.0    75.0    67.5\n",
      "fizik         70.0    85.0    72.5\n",
      "kimya         80.0    70.0    70.0\n",
      "  ogrenci  yas  bolum  sinav1  sinav2  sinav3   ortalama\n",
      "2  mehmet   19  kimya      80      70      70  73.333333\n",
      "4   ahmet   20  fizik      75      90      85  83.333333\n"
     ]
    }
   ],
   "source": [
    "#PANDAS BOLUMU\n",
    "import pandas as pd\n",
    "#1. veri setini pandas dataframe olarak olusturdum\n",
    "data = { \"ogrenci\": [\"ali\", \"ayse\", \"mehmet\", \"zeynep\", \"ahmet\"],\n",
    "    \"yas\": [20, 21, 19, 22, 20],\n",
    "    \"bolum\": [\"bilgisayar\", \"fizik\", \"kimya\", \"bilgisayar\", \"fizik\"],\n",
    "    \"sinav1\": [70, 65, 80, 60, 75],\n",
    "    \"sinav2\": [85, 80, 70, 65, 90],\n",
    "    \"sinav3\": [55, 60, 70, 80, 85]  }\n",
    "df = pd.DataFrame(data)\n",
    "print(df)\n",
    "\n",
    "#2. her ders icin ortalama puani buldum\n",
    "ortalama = df[[\"sinav1\", \"sinav2\", \"sinav3\"]].mean()\n",
    "print(\"ortalamalar:\\n\", ortalama)\n",
    "\n",
    "#3. en yuksek mat notunu alan ogrenci\n",
    "en_yuksek_not = df[\"sinav1\"].max()\n",
    "ogrenci = df[df[\"sinav1\"] == en_yuksek_not][\"ogrenci\"].values[0]\n",
    "print(f\"en yuksek matematik notu alan ogrenci: {ogrenci}\")\n",
    "\n",
    "#4. tum ogrencilerin not ort\n",
    "df = pd.DataFrame(data)\n",
    "df[\"ortalama\"] = df[[\"sinav1\", \"sinav2\", \"sinav3\"]].mean(axis=1)\n",
    "print(df)\n",
    "\n",
    "#5. her bolumun ortalamasi\n",
    "df = pd.DataFrame(data)\n",
    "bolum_ort = df.groupby(\"bolum\")[[\"sinav1\", \"sinav2\", \"sinav3\"]].mean()\n",
    "print(bolum_ort)\n",
    "\n",
    "#6. ort 70 uzeri olan ogrenciler\n",
    "df[\"ortalama\"] = df[[\"sinav1\", \"sinav2\", \"sinav3\"]].mean(axis=1)\n",
    "ort_70_uzeri = df[df[\"ortalama\"] > 70]\n",
    "print(ort_70_uzeri)"
   ]
  }
 ],
 "metadata": {
  "kernelspec": {
   "display_name": "Python [conda env:base] *",
   "language": "python",
   "name": "conda-base-py"
  },
  "language_info": {
   "codemirror_mode": {
    "name": "ipython",
    "version": 3
   },
   "file_extension": ".py",
   "mimetype": "text/x-python",
   "name": "python",
   "nbconvert_exporter": "python",
   "pygments_lexer": "ipython3",
   "version": "3.13.5"
  }
 },
 "nbformat": 4,
 "nbformat_minor": 5
}
